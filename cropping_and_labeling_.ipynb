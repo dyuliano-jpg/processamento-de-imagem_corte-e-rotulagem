{
  "cells": [
    {
      "cell_type": "code",
      "execution_count": null,
      "id": "6e158d07",
      "metadata": {
        "id": "6e158d07"
      },
      "outputs": [],
      "source": [
        "import pandas as pd\n",
        "import cv2\n",
        "import matplotlib.pyplot as plt\n",
        "#%matplotlib inline\n",
        "\n",
        "import os\n",
        "\n",
        "from IPython.display import clear_output\n",
        "from PIL import Image"
      ]
    },
    {
      "cell_type": "code",
      "source": [
        "from google.colab import drive\n",
        "drive.mount('/content/drive')"
      ],
      "metadata": {
        "colab": {
          "base_uri": "https://localhost:8080/"
        },
        "id": "wx7pL69BbvvR",
        "outputId": "af9263e3-4869-4d6f-f2a2-365cecb3dcba"
      },
      "id": "wx7pL69BbvvR",
      "execution_count": null,
      "outputs": [
        {
          "output_type": "stream",
          "name": "stdout",
          "text": [
            "Drive already mounted at /content/drive; to attempt to forcibly remount, call drive.mount(\"/content/drive\", force_remount=True).\n"
          ]
        }
      ]
    },
    {
      "cell_type": "code",
      "execution_count": null,
      "id": "5fa8b716",
      "metadata": {
        "id": "5fa8b716"
      },
      "outputs": [],
      "source": [
        "# NÃO MODIFICAR ESSA FUNÇÃO!!!!!\n",
        "def create_labels(path,path2save):\n",
        "    '''\n",
        "    parâmetros da função:\n",
        "    - path: representa o caminho onde será lido as fotos pós aplicação do Kmeans\n",
        "    - path2save: representa o caminho onde será salvo os discos foliares\n",
        "    '''\n",
        "\n",
        "    labels = []\n",
        "    path = path + '/'\n",
        "    val_for = ['tiff']\n",
        "    img_list = os.listdir(path)\n",
        "    img_list = [i for i in img_list if i.split('.')[-1] in val_for]\n",
        "\n",
        "    for img in img_list: # o número dentro dos colchetes pode ser modificado para rastrear onde vc parou!\n",
        "        #if \"R33\" in img: # pode apagar e dar um shift + tab nas linhas abaixo\n",
        "        im = cv2.imread(path + img)\n",
        "        roi = cv2.selectROIs(\"select rois\", im)\n",
        "\n",
        "        crop_number=1\n",
        "\n",
        "        for rect in roi:\n",
        "            x1=rect[0]\n",
        "            y1=rect[1]\n",
        "            x2=rect[2]\n",
        "            y2=rect[3]\n",
        "\n",
        "            #crop roi from original image\n",
        "            img_crop=im[y1:y1+y2,x1:x1+x2]\n",
        "            img_crop_gray = cv2.cvtColor(img_crop, cv2.COLOR_BGR2GRAY)\n",
        "\n",
        "            contours, hierarchy= cv2.findContours(img_crop_gray, cv2.RETR_EXTERNAL, cv2.CHAIN_APPROX_SIMPLE)\n",
        "\n",
        "            for (i,c) in enumerate(contours):\n",
        "                x,y,w,h= cv2.boundingRect(c)\n",
        "\n",
        "                cropped_contour= img_crop[y:y+h, x:x+w]\n",
        "\n",
        "                plt.imshow(cropped_contour)\n",
        "                plt.show()\n",
        "                inp = input() # o input pode bugar!\n",
        "                labels.append(int(inp))\n",
        "                clear_output(wait=True)\n",
        "\n",
        "                image_name= img.split('.')[0] + '_' + str(crop_number) + '_'+ inp + \".tiff\"\n",
        "                os.chdir(path2save)\n",
        "                cv2.imwrite(image_name, cropped_contour)\n",
        "\n",
        "                crop_number= crop_number + 1\n",
        "\n",
        "        cv2.waitKey(0)\n",
        "        cv2.destroyAllWindows()"
      ]
    },
    {
      "cell_type": "code",
      "execution_count": null,
      "id": "eb7f308c",
      "metadata": {
        "id": "eb7f308c"
      },
      "outputs": [],
      "source": [
        "# Modificar apenas o caminho de leitura das fotos e salvamento\n",
        "\n",
        "#create_labels(\"C:/Users/anton/Documents/Mestrado/saveexp1/dia 1_modified\",\"C:/Users/anton/Documents/Mestrado/salva aqui os discos\")\n",
        "\n",
        "path = \"C:/Users/Dyuliano Souza/Desktop/Qualificação_fotos_café/exp3/gb_08122022/gb_1\"\n",
        "path2save = \"C:/Users/Dyuliano Souza/Desktop/Qualificação_fotos_café/exp3\""
      ]
    },
    {
      "cell_type": "markdown",
      "id": "15267b5b",
      "metadata": {
        "id": "15267b5b"
      },
      "source": [
        "### Terminei,! Agora tem que revisar."
      ]
    }
  ],
  "metadata": {
    "kernelspec": {
      "display_name": "Python 3 (ipykernel)",
      "language": "python",
      "name": "python3"
    },
    "language_info": {
      "codemirror_mode": {
        "name": "ipython",
        "version": 3
      },
      "file_extension": ".py",
      "mimetype": "text/x-python",
      "name": "python",
      "nbconvert_exporter": "python",
      "pygments_lexer": "ipython3",
      "version": "3.10.9"
    },
    "colab": {
      "provenance": []
    }
  },
  "nbformat": 4,
  "nbformat_minor": 5
}